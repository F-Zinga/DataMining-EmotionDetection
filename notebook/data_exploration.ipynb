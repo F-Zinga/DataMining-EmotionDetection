{
 "cells": [
  {
   "attachments": {},
   "cell_type": "markdown",
   "metadata": {},
   "source": [
    "**DATA EXPLORATION**\n",
    "\n",
    "In this notebook we're going analyze the dataset in order to better understand the data and organize the work-flow."
   ]
  },
  {
   "cell_type": "code",
   "execution_count": 1,
   "metadata": {},
   "outputs": [],
   "source": [
    "import pandas as pd\n",
    "import numpy as np"
   ]
  },
  {
   "cell_type": "markdown",
   "source": [
    "We extracted the .csv files from the Emotions_GoldStandard_andAnnotation.xlsx. We have a .csv file for each emotion, extracted from each worksheet on the xlsx file, using the package pandas. We did another script for completing this task."
   ],
   "metadata": {
    "collapsed": false
   }
  },
  {
   "cell_type": "code",
   "execution_count": 2,
   "outputs": [],
   "source": [
    "emotions = ['love','anger','fear','surprise','joy','sadness']\n",
    "\n",
    "\n",
    "df_love = pd.read_csv('C:/users/kecco/Documenti/Github/DataMining-EmotionDetection/data/Processed/Dataset/StackOverflow/love.csv',sep=';',encoding='iso-8859-1')\n",
    "\n",
    "df_anger = pd.read_csv('C:/users/kecco/Documenti/Github/DataMining-EmotionDetection/data/Processed/Dataset/StackOverflow/anger.csv',sep=';',encoding='iso-8859-1')\n",
    "\n",
    "df_fear = pd.read_csv('C:/users/kecco/Documenti/Github/DataMining-EmotionDetection/data/Processed/Dataset/StackOverflow/fear.csv',sep=';',encoding='iso-8859-1')\n",
    "\n",
    "df_surprise = pd.read_csv('C:/users/kecco/Documenti/Github/DataMining-EmotionDetection/data/Processed/Dataset/StackOverflow/surprise.csv',sep=';',encoding='iso-8859-1')\n",
    "\n",
    "df_joy = pd.read_csv('C:/users/kecco/Documenti/Github/DataMining-EmotionDetection/data/Processed/Dataset/StackOverflow/joy.csv',sep=';',encoding='iso-8859-1')\n",
    "\n",
    "df_sadness = pd.read_csv('C:/users/kecco/Documenti/Github/DataMining-EmotionDetection/data/Processed/Dataset/StackOverflow/sadness.csv',sep=';',encoding='iso-8859-1')"
   ],
   "metadata": {
    "collapsed": false
   }
  },
  {
   "cell_type": "markdown",
   "source": [
    "We have the same sentences over the 6 csv files. In each of them, in the label column, we have the name of emotion if it is related to the sentence, or NaN otherwise."
   ],
   "metadata": {
    "collapsed": false
   }
  },
  {
   "cell_type": "code",
   "execution_count": 3,
   "outputs": [
    {
     "name": "stdout",
     "output_type": "stream",
     "text": [
      "\n",
      "LOVE DATAFRAME\n",
      "                                                Text label\n",
      "0  SVG transform on text attribute works excellen...  LOVE\n",
      "1  Excellent! This is exactly what I needed. Thanks!  LOVE\n",
      "2  Have added a modern solution as of May 2014 in...   NaN\n",
      "3  Have you tried removing 'preload' attribute? (...   NaN\n",
      "4  A smarter, entirely C++-way of doing what you ...   NaN\n",
      "\n",
      "JOY DATAFRAME\n",
      "                                                Text label\n",
      "0  SVG transform on text attribute works excellen...   NaN\n",
      "1  Excellent! This is exactly what I needed. Thanks!   NaN\n",
      "2  Have added a modern solution as of May 2014 in...   NaN\n",
      "3  Have you tried removing 'preload' attribute? (...   NaN\n",
      "4  A smarter, entirely C++-way of doing what you ...   NaN\n"
     ]
    }
   ],
   "source": [
    "print('\\nLOVE DATAFRAME')\n",
    "print(df_love.head())\n",
    "\n",
    "print('\\nJOY DATAFRAME')\n",
    "print(df_joy.head())"
   ],
   "metadata": {
    "collapsed": false
   }
  },
  {
   "cell_type": "markdown",
   "source": [
    "We need to analyze the classes distribution and total nunmber of samples."
   ],
   "metadata": {
    "collapsed": false
   }
  },
  {
   "cell_type": "code",
   "execution_count": 4,
   "outputs": [
    {
     "name": "stdout",
     "output_type": "stream",
     "text": [
      "Total number of sentences\n",
      "4800\n",
      "Number of JOY occurences: \n",
      "491\n",
      "Number of SADNESS occurences: \n",
      "230\n",
      "Number of FEAR occurences: \n",
      "106\n",
      "Number of SURPRISE occurences: \n",
      "45\n",
      "Number of ANGER occurences: \n",
      "882\n",
      "Number of LOVE occurences: \n",
      "1220\n"
     ]
    }
   ],
   "source": [
    "print('Total number of sentences')\n",
    "num_sentences = len(df_joy)\n",
    "print(num_sentences)\n",
    "emotions = ['joy','sadness','fear','surprise','anger','love']\n",
    "\n",
    "df_list = [df_joy,df_sadness,df_fear,df_surprise,df_anger,df_love]\n",
    "\n",
    "num_occurences = []\n",
    "\n",
    "for i,df in enumerate(df_list):\n",
    "    print(f'Number of {emotions[i].upper()} occurences: ')\n",
    "    print(df['label'].value_counts()[emotions[i].upper()])\n",
    "    num_occurences.append(df['label'].value_counts()[emotions[i].upper()])"
   ],
   "metadata": {
    "collapsed": false
   }
  },
  {
   "cell_type": "code",
   "execution_count": 5,
   "outputs": [
    {
     "data": {
      "text/plain": "<Axes: title={'center': 'Emotions Distributions over the Dataset'}>"
     },
     "execution_count": 5,
     "metadata": {},
     "output_type": "execute_result"
    },
    {
     "data": {
      "text/plain": "<Figure size 640x480 with 1 Axes>",
      "image/png": "[encoded data removed]"
     },
     "metadata": {},
     "output_type": "display_data"
    }
   ],
   "source": [
    "ser = pd.Series(data=num_occurences, index=emotions)\n",
    "ser.plot(kind='bar',title = 'Emotions Distributions over the Dataset')"
   ],
   "metadata": {
    "collapsed": false
   }
  },
  {
   "cell_type": "markdown",
   "source": [
    "The classes are not equally distributed. We have a large gap between the less represented class, Surprise, and the most represented one, Love.\n",
    "Moreover, there is a large difference in each csv between the nuber of non-relevant sentences and the emotive ones.\n",
    "So, in th next phases, we will focus on this aspect."
   ],
   "metadata": {
    "collapsed": false
   }
  },
  {
   "cell_type": "markdown",
   "source": [
    "We'll use spacy package for nlp in python. It provides a huge number of features and tools for working with text data."
   ],
   "metadata": {
    "collapsed": false
   }
  },
  {
   "cell_type": "code",
   "execution_count": 6,
   "outputs": [
    {
     "name": "stdout",
     "output_type": "stream",
     "text": [
      "Collecting en-core-web-sm==3.5.0\n",
      "  Downloading https://github.com/explosion/spacy-models/releases/download/en_core_web_sm-3.5.0/en_core_web_sm-3.5.0-py3-none-any.whl (12.8 MB)\n",
      "     --------------------------------------- 12.8/12.8 MB 28.5 MB/s eta 0:00:00\n",
      "Requirement already satisfied: spacy<3.6.0,>=3.5.0 in c:\\users\\kecco\\documents\\github\\datamining-emotiondetection\\venv\\lib\\site-packages (from en-core-web-sm==3.5.0) (3.5.0)\n",
      "Requirement already satisfied: srsly<3.0.0,>=2.4.3 in c:\\users\\kecco\\documents\\github\\datamining-emotiondetection\\venv\\lib\\site-packages (from spacy<3.6.0,>=3.5.0->en-core-web-sm==3.5.0) (2.4.5)\n",
      "Requirement already satisfied: spacy-legacy<3.1.0,>=3.0.11 in c:\\users\\kecco\\documents\\github\\datamining-emotiondetection\\venv\\lib\\site-packages (from spacy<3.6.0,>=3.5.0->en-core-web-sm==3.5.0) (3.0.12)\n",
      "Requirement already satisfied: numpy>=1.15.0 in c:\\users\\kecco\\appdata\\local\\programs\\python\\python39\\lib\\site-packages (from spacy<3.6.0,>=3.5.0->en-core-web-sm==3.5.0) (1.21.6)\n",
      "Requirement already satisfied: wasabi<1.2.0,>=0.9.1 in c:\\users\\kecco\\documents\\github\\datamining-emotiondetection\\venv\\lib\\site-packages (from spacy<3.6.0,>=3.5.0->en-core-web-sm==3.5.0) (1.1.1)\n",
      "Requirement already satisfied: pydantic!=1.8,!=1.8.1,<1.11.0,>=1.7.4 in c:\\users\\kecco\\documents\\github\\datamining-emotiondetection\\venv\\lib\\site-packages (from spacy<3.6.0,>=3.5.0->en-core-web-sm==3.5.0) (1.10.5)\n",
      "Requirement already satisfied: langcodes<4.0.0,>=3.2.0 in c:\\users\\kecco\\documents\\github\\datamining-emotiondetection\\venv\\lib\\site-packages (from spacy<3.6.0,>=3.5.0->en-core-web-sm==3.5.0) (3.3.0)\n",
      "Requirement already satisfied: cymem<2.1.0,>=2.0.2 in c:\\users\\kecco\\documents\\github\\datamining-emotiondetection\\venv\\lib\\site-packages (from spacy<3.6.0,>=3.5.0->en-core-web-sm==3.5.0) (2.0.7)\n",
      "Requirement already satisfied: spacy-loggers<2.0.0,>=1.0.0 in c:\\users\\kecco\\documents\\github\\datamining-emotiondetection\\venv\\lib\\site-packages (from spacy<3.6.0,>=3.5.0->en-core-web-sm==3.5.0) (1.0.4)\n",
      "Requirement already satisfied: typer<0.8.0,>=0.3.0 in c:\\users\\kecco\\documents\\github\\datamining-emotiondetection\\venv\\lib\\site-packages (from spacy<3.6.0,>=3.5.0->en-core-web-sm==3.5.0) (0.7.0)\n",
      "Requirement already satisfied: tqdm<5.0.0,>=4.38.0 in c:\\users\\kecco\\documents\\github\\datamining-emotiondetection\\venv\\lib\\site-packages (from spacy<3.6.0,>=3.5.0->en-core-web-sm==3.5.0) (4.64.1)\n",
      "Requirement already satisfied: jinja2 in c:\\users\\kecco\\documents\\github\\datamining-emotiondetection\\venv\\lib\\site-packages (from spacy<3.6.0,>=3.5.0->en-core-web-sm==3.5.0) (3.1.2)\n",
      "Requirement already satisfied: setuptools in c:\\users\\kecco\\documents\\github\\datamining-emotiondetection\\venv\\lib\\site-packages (from spacy<3.6.0,>=3.5.0->en-core-web-sm==3.5.0) (65.5.1)\n",
      "Requirement already satisfied: murmurhash<1.1.0,>=0.28.0 in c:\\users\\kecco\\documents\\github\\datamining-emotiondetection\\venv\\lib\\site-packages (from spacy<3.6.0,>=3.5.0->en-core-web-sm==3.5.0) (1.0.9)\n",
      "Requirement already satisfied: preshed<3.1.0,>=3.0.2 in c:\\users\\kecco\\documents\\github\\datamining-emotiondetection\\venv\\lib\\site-packages (from spacy<3.6.0,>=3.5.0->en-core-web-sm==3.5.0) (3.0.8)\n",
      "Requirement already satisfied: thinc<8.2.0,>=8.1.0 in c:\\users\\kecco\\documents\\github\\datamining-emotiondetection\\venv\\lib\\site-packages (from spacy<3.6.0,>=3.5.0->en-core-web-sm==3.5.0) (8.1.7)\n",
      "Requirement already satisfied: smart-open<7.0.0,>=5.2.1 in c:\\users\\kecco\\documents\\github\\datamining-emotiondetection\\venv\\lib\\site-packages (from spacy<3.6.0,>=3.5.0->en-core-web-sm==3.5.0) (6.3.0)\n",
      "Requirement already satisfied: catalogue<2.1.0,>=2.0.6 in c:\\users\\kecco\\documents\\github\\datamining-emotiondetection\\venv\\lib\\site-packages (from spacy<3.6.0,>=3.5.0->en-core-web-sm==3.5.0) (2.0.8)\n",
      "Requirement already satisfied: requests<3.0.0,>=2.13.0 in c:\\users\\kecco\\appdata\\local\\programs\\python\\python39\\lib\\site-packages (from spacy<3.6.0,>=3.5.0->en-core-web-sm==3.5.0) (2.27.1)\n",
      "Requirement already satisfied: pathy>=0.10.0 in c:\\users\\kecco\\documents\\github\\datamining-emotiondetection\\venv\\lib\\site-packages (from spacy<3.6.0,>=3.5.0->en-core-web-sm==3.5.0) (0.10.1)\n",
      "Requirement already satisfied: packaging>=20.0 in c:\\users\\kecco\\appdata\\local\\programs\\python\\python39\\lib\\site-packages (from spacy<3.6.0,>=3.5.0->en-core-web-sm==3.5.0) (21.3)\n",
      "Requirement already satisfied: pyparsing!=3.0.5,>=2.0.2 in c:\\users\\kecco\\appdata\\local\\programs\\python\\python39\\lib\\site-packages (from packaging>=20.0->spacy<3.6.0,>=3.5.0->en-core-web-sm==3.5.0) (3.0.8)\n",
      "Requirement already satisfied: typing-extensions>=4.2.0 in c:\\users\\kecco\\documents\\github\\datamining-emotiondetection\\venv\\lib\\site-packages (from pydantic!=1.8,!=1.8.1,<1.11.0,>=1.7.4->spacy<3.6.0,>=3.5.0->en-core-web-sm==3.5.0) (4.5.0)\n",
      "Requirement already satisfied: certifi>=2017.4.17 in c:\\users\\kecco\\appdata\\local\\programs\\python\\python39\\lib\\site-packages (from requests<3.0.0,>=2.13.0->spacy<3.6.0,>=3.5.0->en-core-web-sm==3.5.0) (2021.10.8)\n",
      "Requirement already satisfied: urllib3<1.27,>=1.21.1 in c:\\users\\kecco\\appdata\\local\\programs\\python\\python39\\lib\\site-packages (from requests<3.0.0,>=2.13.0->spacy<3.6.0,>=3.5.0->en-core-web-sm==3.5.0) (1.26.9)\n",
      "Requirement already satisfied: charset-normalizer~=2.0.0 in c:\\users\\kecco\\appdata\\local\\programs\\python\\python39\\lib\\site-packages (from requests<3.0.0,>=2.13.0->spacy<3.6.0,>=3.5.0->en-core-web-sm==3.5.0) (2.0.12)\n",
      "Requirement already satisfied: idna<4,>=2.5 in c:\\users\\kecco\\appdata\\local\\programs\\python\\python39\\lib\\site-packages (from requests<3.0.0,>=2.13.0->spacy<3.6.0,>=3.5.0->en-core-web-sm==3.5.0) (3.3)\n",
      "Requirement already satisfied: blis<0.8.0,>=0.7.8 in c:\\users\\kecco\\documents\\github\\datamining-emotiondetection\\venv\\lib\\site-packages (from thinc<8.2.0,>=8.1.0->spacy<3.6.0,>=3.5.0->en-core-web-sm==3.5.0) (0.7.9)\n",
      "Requirement already satisfied: confection<1.0.0,>=0.0.1 in c:\\users\\kecco\\documents\\github\\datamining-emotiondetection\\venv\\lib\\site-packages (from thinc<8.2.0,>=8.1.0->spacy<3.6.0,>=3.5.0->en-core-web-sm==3.5.0) (0.0.4)\n",
      "Requirement already satisfied: colorama in c:\\users\\kecco\\documents\\github\\datamining-emotiondetection\\venv\\lib\\site-packages (from tqdm<5.0.0,>=4.38.0->spacy<3.6.0,>=3.5.0->en-core-web-sm==3.5.0) (0.4.6)\n",
      "Requirement already satisfied: click<9.0.0,>=7.1.1 in c:\\users\\kecco\\documents\\github\\datamining-emotiondetection\\venv\\lib\\site-packages (from typer<0.8.0,>=0.3.0->spacy<3.6.0,>=3.5.0->en-core-web-sm==3.5.0) (8.1.3)\n",
      "Requirement already satisfied: MarkupSafe>=2.0 in c:\\users\\kecco\\documents\\github\\datamining-emotiondetection\\venv\\lib\\site-packages (from jinja2->spacy<3.6.0,>=3.5.0->en-core-web-sm==3.5.0) (2.1.2)\n",
      "\u001B[38;5;2m[+] Download and installation successful\u001B[0m\n",
      "You can now load the package via spacy.load('en_core_web_sm')\n"
     ]
    },
    {
     "name": "stderr",
     "output_type": "stream",
     "text": [
      "\n",
      "[notice] A new release of pip available: 22.3.1 -> 23.0.1\n",
      "[notice] To update, run: python.exe -m pip install --upgrade pip\n"
     ]
    }
   ],
   "source": [
    "!python -m spacy download en_core_web_sm\n",
    "import spacy\n",
    "nlp = spacy.load(\"en_core_web_sm\")\n"
   ],
   "metadata": {
    "collapsed": false
   }
  },
  {
   "cell_type": "markdown",
   "source": [
    "The dataset contains StackOverflow comments, usually they are not too long, as we can see."
   ],
   "metadata": {
    "collapsed": false
   }
  },
  {
   "cell_type": "code",
   "execution_count": 8,
   "outputs": [
    {
     "name": "stdout",
     "output_type": "stream",
     "text": [
      "Mean number of words:36.69229166666667\n"
     ]
    }
   ],
   "source": [
    "tot = len(df_anger['Text'])\n",
    "l = 0\n",
    "\n",
    "for sentence in df_anger['Text']:\n",
    "    doc=nlp(sentence)\n",
    "    l += len(doc)\n",
    "\n",
    "print(f'Mean number of words:{l/tot}')"
   ],
   "metadata": {
    "collapsed": false
   }
  },
  {
   "cell_type": "markdown",
   "source": [
    "But every sentence could be associated with more than one sentiment. We create a dataset with emotions as columns and 1 row for each sentence. The 1 in a cell indicates the presence of that sentiment in a sentence."
   ],
   "metadata": {
    "collapsed": false
   }
  },
  {
   "cell_type": "code",
   "execution_count": 12,
   "outputs": [
    {
     "name": "stdout",
     "output_type": "stream",
     "text": [
      "      joy  sadness  fear  surprise  anger  love\n",
      "0       0        0     0         0      0     1\n",
      "1       0        0     0         0      0     1\n",
      "2       0        0     0         0      0     0\n",
      "3       0        1     0         0      0     0\n",
      "4       0        0     0         0      0     0\n",
      "...   ...      ...   ...       ...    ...   ...\n",
      "4795    1        0     0         0      0     0\n",
      "4796    0        0     0         0      0     1\n",
      "4797    0        0     0         0      0     0\n",
      "4798    0        0     0         0      0     1\n",
      "4799    0        0     0         0      0     0\n",
      "\n",
      "[4800 rows x 6 columns]\n"
     ]
    }
   ],
   "source": [
    "emotions = ['joy','sadness','fear','surprise','anger','love']\n",
    "row = {'joy':0,'sadness':0,'fear':0,'surprise':0,'anger':0,'love':0}\n",
    "data =[]\n",
    "\n",
    "\n",
    "for i in range(len(df_joy)):\n",
    "    app = row.copy()\n",
    "    for j,df in enumerate(df_list):\n",
    "        if df.loc[i,'label'] == emotions[j].upper():\n",
    "            app[emotions[j]] = 1\n",
    "    data.append(app)\n",
    "\n",
    "df_results = pd.DataFrame(data=data,columns=emotions)\n",
    "\n",
    "print(df_results)"
   ],
   "metadata": {
    "collapsed": false
   }
  },
  {
   "cell_type": "markdown",
   "source": [
    "We add a column named 'tot' to count the number of sentiments in the same sentence."
   ],
   "metadata": {
    "collapsed": false
   }
  },
  {
   "cell_type": "code",
   "execution_count": 13,
   "outputs": [
    {
     "name": "stdout",
     "output_type": "stream",
     "text": [
      "      joy  sadness  fear  surprise  anger  love  tot\n",
      "0       0        0     0         0      0     1    1\n",
      "1       0        0     0         0      0     1    1\n",
      "2       0        0     0         0      0     0    0\n",
      "3       0        1     0         0      0     0    1\n",
      "4       0        0     0         0      0     0    0\n",
      "...   ...      ...   ...       ...    ...   ...  ...\n",
      "4795    1        0     0         0      0     0    1\n",
      "4796    0        0     0         0      0     1    1\n",
      "4797    0        0     0         0      0     0    0\n",
      "4798    0        0     0         0      0     1    1\n",
      "4799    0        0     0         0      0     0    0\n",
      "\n",
      "[4800 rows x 7 columns]\n"
     ]
    }
   ],
   "source": [
    "tot_col = np.sum(df_results,axis=1).tolist()\n",
    "\n",
    "df_results['tot'] = tot_col\n",
    "\n",
    "print(df_results)\n"
   ],
   "metadata": {
    "collapsed": false
   }
  },
  {
   "cell_type": "markdown",
   "source": [
    "With the next script, we count the number of sentences with more than one sentiment, and we create a dict object with as index the index of the sentence, and value the name of sentiments associated"
   ],
   "metadata": {
    "collapsed": false
   }
  },
  {
   "cell_type": "code",
   "execution_count": 16,
   "outputs": [
    {
     "name": "stdout",
     "output_type": "stream",
     "text": [
      "Number of sentences with more than one sentiment:133\n"
     ]
    }
   ],
   "source": [
    "count = 0\n",
    "dict_final = {}\n",
    "\n",
    "for i in range (len(df_results)):\n",
    "    if df_results.loc[i,'tot'] > 1:\n",
    "        string = ''\n",
    "        for e in emotions:\n",
    "            if df_results.loc[i,e] == 1:\n",
    "                string = string + e +','\n",
    "        dict_final[i] = string\n",
    "        count += 1\n",
    "\n",
    "print(f'Number of sentences with more than one sentiment:{count}')"
   ],
   "metadata": {
    "collapsed": false
   }
  },
  {
   "cell_type": "markdown",
   "source": [
    "We grouped same couple of sentiments in another dict"
   ],
   "metadata": {
    "collapsed": false
   }
  },
  {
   "cell_type": "code",
   "execution_count": 18,
   "outputs": [
    {
     "name": "stdout",
     "output_type": "stream",
     "text": [
      "defaultdict(<class 'int'>, {'joy,love,': 71, 'joy,fear,': 2, 'sadness,anger,': 11, 'sadness,fear,': 10, 'joy,surprise,': 6, 'anger,love,': 13, 'surprise,love,': 4, 'surprise,anger,': 2, 'joy,sadness,': 4, 'fear,anger,': 1, 'joy,anger,': 4, 'fear,surprise,': 2, 'sadness,love,': 2, 'sadness,surprise,': 1})\n",
      "14\n"
     ]
    }
   ],
   "source": [
    "from collections import defaultdict\n",
    "\n",
    "dict_final = defaultdict(int)\n",
    "\n",
    "for i in range (len(df_results)):\n",
    "    if df_results.loc[i,'tot'] > 1:\n",
    "        string = ''\n",
    "        for e in emotions:\n",
    "            if df_results.loc[i,e] == 1:\n",
    "                string = string + e +','\n",
    "        dict_final[string] += 1\n",
    "\n",
    "print(dict_final)\n",
    "print(len(dict_final))"
   ],
   "metadata": {
    "collapsed": false
   }
  },
  {
   "cell_type": "markdown",
   "source": [
    "As we can see from the plot, joy and love is the more frequent couple, understandably, but we have also some strange couple of sentiments, as joy and sadness, or joy and fear, in some sentences."
   ],
   "metadata": {
    "collapsed": false
   }
  },
  {
   "cell_type": "code",
   "execution_count": 19,
   "outputs": [
    {
     "data": {
      "text/plain": "<Axes: title={'center': 'Emotions Distributions over the Dataset'}>"
     },
     "execution_count": 19,
     "metadata": {},
     "output_type": "execute_result"
    },
    {
     "data": {
      "text/plain": "<Figure size 640x480 with 1 Axes>",
      "image/png": "[encoded data removed]"
     },
     "metadata": {},
     "output_type": "display_data"
    }
   ],
   "source": [
    "ser = pd.Series(dict_final)\n",
    "ser.plot(kind='bar',title = 'Emotions Distributions over the Dataset')"
   ],
   "metadata": {
    "collapsed": false
   }
  },
  {
   "cell_type": "markdown",
   "source": [
    "### Sum up\n",
    "-  We have a total of 4800 sentences labeled on 6 sentiments.\n",
    "-  'love' is the more represented one, with 1200 samples, but we have some sentiments, like surprise and fear, that have less than 200 samples, maybe not too much for training a classification model.\n",
    "-  Even considering the most represented ones, the dataset is highly unbalanced, so we will use some balancing techniques in the next steps.\n",
    "-  Sentences have a mean number of words of about 37\n",
    "-  133 sentences have been labeled with more than one sentiment, sometimes correlated, as love and joy, sometimes not.\n",
    "-  This may be due to the fact that sentiments and feelings change a lot from one to another, and so the samples in our dataset."
   ],
   "metadata": {
    "collapsed": false
   }
  }
 ],
 "metadata": {
  "kernelspec": {
   "display_name": "Python 3",
   "language": "python",
   "name": "python3"
  },
  "language_info": {
   "name": "python",
   "version": "3.9.10"
  },
  "orig_nbformat": 4,
  "vscode": {
   "interpreter": {
    "hash": "8fc5cb175c544421a495ee9fc2897512fa6edaed0f9576a1371e732f5b4bf574"
   }
  }
 },
 "nbformat": 4,
 "nbformat_minor": 2
}
