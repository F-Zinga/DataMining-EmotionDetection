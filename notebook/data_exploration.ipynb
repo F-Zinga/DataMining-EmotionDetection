{
 "cells": [
  {
   "attachments": {},
   "cell_type": "markdown",
   "metadata": {},
   "source": [
    "**DATA EXPLORATION**\n",
    "\n",
    "In this notebook we're going analyze the dataset in order to better understand the data and organize the work-flow."
   ]
  },
  {
   "cell_type": "code",
   "execution_count": null,
   "metadata": {},
   "outputs": [],
   "source": []
  }
 ],
 "metadata": {
  "kernelspec": {
   "display_name": "Python 3",
   "language": "python",
   "name": "python3"
  },
  "language_info": {
   "name": "python",
   "version": "3.9.10"
  },
  "orig_nbformat": 4,
  "vscode": {
   "interpreter": {
    "hash": "8fc5cb175c544421a495ee9fc2897512fa6edaed0f9576a1371e732f5b4bf574"
   }
  }
 },
 "nbformat": 4,
 "nbformat_minor": 2
}
