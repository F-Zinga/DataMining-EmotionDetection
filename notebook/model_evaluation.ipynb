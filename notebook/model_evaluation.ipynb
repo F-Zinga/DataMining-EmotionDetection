{
 "cells": [
  {
   "cell_type": "code",
   "execution_count": null,
   "metadata": {
    "collapsed": true
   },
   "outputs": [],
   "source": [
    "import spacy\n",
    "import pandas as pd\n",
    "import numpy as np"
   ]
  },
  {
   "cell_type": "code",
   "execution_count": null,
   "outputs": [],
   "source": [
    "emotions = ['love','anger','fear','surprise','joy','sadness']\n",
    "\n",
    "df_love = pd.read_csv('C:/users/kecco/Documenti/Github/DataMining-EmotionDetection/data/Processed/Dataset/StackOverflow/love.csv',sep=';',encoding='iso-8859-1')"
   ],
   "metadata": {
    "collapsed": false
   }
  },
  {
   "cell_type": "code",
   "execution_count": null,
   "outputs": [],
   "source": [
    "fig, ax = plt.subplots(2, 3, sharex=True, sharey=True)\n",
    "ax[0][0].set_title(\"KNN\")\n",
    "ax[0][0].axhline(y = 0.93, color = 'r', linestyle = 'dashed')\n",
    "sns.barplot(x=[\"acc\", \"prec\", \"rec\", \"f1\"], y= [report_knn[\"accuracy\"].mean(),\n",
    "                                                                  report_knn[\"precision\"].mean(),\n",
    "                                                                  report_knn[\"recall\"].mean(),\n",
    "                                                                  report_knn[\"f1_score\"].mean()],\n",
    "            ax=ax[0][0])\n",
    "ax[0][1].set_title(\"SVC\")\n",
    "ax[0][1 ].axhline(y = 0.93, color = 'r', linestyle = 'dashed')\n",
    "sns.barplot(x=[\"acc\", \"prec\", \"rec\", \"f1\"], y= [svc_report[\"accuracy\"].mean(),\n",
    "                                                svc_report[\"precision\"].mean(),\n",
    "                                                svc_report[\"recall\"].mean(),\n",
    "                                                svc_report[\"f1_score\"].mean()],\n",
    "            ax=ax[0][1])\n",
    "\n",
    "ax[0][2].set_title(\"LogisticRegression\")\n",
    "ax[0][2].axhline(y = 0.93, color = 'r', linestyle = 'dashed')\n",
    "sns.barplot(x=[\"acc\", \"prec\", \"rec\", \"f1\"], y= [logreg_report[\"accuracy\"].mean(),\n",
    "                                                logreg_report[\"precision\"].mean(),\n",
    "                                                logreg_report[\"recall\"].mean(),\n",
    "                                                logreg_report[\"f1_score\"].mean()],\n",
    "            ax=ax[0][2])\n",
    "\n",
    "ax[1][0].set_title(\"GaussianNB\")\n",
    "ax[1][0].axhline(y = 0.93, color = 'r', linestyle = 'dashed')\n",
    "sns.barplot(x=[\"acc\", \"prec\", \"rec\", \"f1\"], y= [nb_report[\"accuracy\"].mean(),\n",
    "                                                nb_report[\"precision\"].mean(),\n",
    "                                                nb_report[\"recall\"].mean(),\n",
    "                                                nb_report[\"f1_score\"].mean()],\n",
    "            ax=ax[1][0])\n",
    "\n",
    "ax[1][1].set_title(\"Decision Tree\")\n",
    "ax[1][1].axhline(y = 0.93, color = 'r', linestyle = 'dashed')\n",
    "sns.barplot(x=[\"acc\", \"prec\", \"rec\", \"f1\"], y= [tree_report[\"accuracy\"].mean(),\n",
    "                                                tree_report[\"precision\"].mean(),\n",
    "                                                tree_report[\"recall\"].mean(),\n",
    "                                                tree_report[\"f1_score\"].mean()],\n",
    "            ax=ax[1][1])\n",
    "\n",
    "ax[1][2].set_title(\"Random Forest\")\n",
    "ax[1][2].axhline(y = 0.93, color = 'r', linestyle = 'dashed')\n",
    "sns.barplot(x=[\"acc\", \"prec\", \"rec\", \"f1\"], y= [ranfor_report[\"accuracy\"].mean(),\n",
    "                                                ranfor_report[\"precision\"].mean(),\n",
    "                                                ranfor_report[\"recall\"].mean(),\n",
    "                                                ranfor_report[\"f1_score\"].mean()],\n",
    "            ax=ax[1][2])"
   ],
   "metadata": {
    "collapsed": false
   }
  }
 ],
 "metadata": {
  "kernelspec": {
   "display_name": "Python 3",
   "language": "python",
   "name": "python3"
  },
  "language_info": {
   "codemirror_mode": {
    "name": "ipython",
    "version": 2
   },
   "file_extension": ".py",
   "mimetype": "text/x-python",
   "name": "python",
   "nbconvert_exporter": "python",
   "pygments_lexer": "ipython2",
   "version": "2.7.6"
  }
 },
 "nbformat": 4,
 "nbformat_minor": 0
}
