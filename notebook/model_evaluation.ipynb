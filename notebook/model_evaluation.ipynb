{
 "cells": [
  {
   "cell_type": "code",
   "execution_count": 1,
   "metadata": {
    "collapsed": true,
    "ExecuteTime": {
     "start_time": "2023-04-12T17:13:16.612680Z",
     "end_time": "2023-04-12T17:13:26.739129Z"
    }
   },
   "outputs": [],
   "source": [
    "import src.utils as ut\n",
    "from src.WordVectorTransformer import WordVectorTransformer\n",
    "from sklearn.svm import LinearSVC\n",
    "from imblearn.over_sampling import SMOTE\n",
    "from imblearn.pipeline import Pipeline\n",
    "from sklearn.model_selection import cross_val_score, StratifiedKFold\n",
    "from sklearn.metrics import make_scorer"
   ]
  },
  {
   "cell_type": "code",
   "execution_count": 2,
   "outputs": [],
   "source": [
    "df_list, emotions_list = ut.read_csv()\n",
    "\n",
    "x = df_list[0]['Text']\n",
    "\n",
    "y = ut.set_labels(df_list[0],0,emotions_list)"
   ],
   "metadata": {
    "collapsed": false,
    "ExecuteTime": {
     "start_time": "2023-04-12T17:13:38.758162Z",
     "end_time": "2023-04-12T17:13:38.877799Z"
    }
   }
  },
  {
   "cell_type": "code",
   "execution_count": 3,
   "outputs": [
    {
     "name": "stderr",
     "output_type": "stream",
     "text": [
      "C:\\Users\\kecco\\AppData\\Local\\Programs\\Python\\Python39\\lib\\site-packages\\sklearn\\svm\\_base.py:1206: ConvergenceWarning: Liblinear failed to converge, increase the number of iterations.\n",
      "  warnings.warn(\n"
     ]
    },
    {
     "name": "stdout",
     "output_type": "stream",
     "text": [
      "              precision    recall  f1-score   support\n",
      "\n",
      "           0       0.91      0.83      0.87       716\n",
      "           1       0.61      0.76      0.68       244\n",
      "\n",
      "    accuracy                           0.81       960\n",
      "   macro avg       0.76      0.80      0.77       960\n",
      "weighted avg       0.83      0.81      0.82       960\n",
      "\n"
     ]
    },
    {
     "name": "stderr",
     "output_type": "stream",
     "text": [
      "C:\\Users\\kecco\\AppData\\Local\\Programs\\Python\\Python39\\lib\\site-packages\\sklearn\\svm\\_base.py:1206: ConvergenceWarning: Liblinear failed to converge, increase the number of iterations.\n",
      "  warnings.warn(\n"
     ]
    },
    {
     "name": "stdout",
     "output_type": "stream",
     "text": [
      "              precision    recall  f1-score   support\n",
      "\n",
      "           0       0.91      0.83      0.87       716\n",
      "           1       0.60      0.76      0.67       244\n",
      "\n",
      "    accuracy                           0.81       960\n",
      "   macro avg       0.76      0.80      0.77       960\n",
      "weighted avg       0.83      0.81      0.82       960\n",
      "\n"
     ]
    },
    {
     "name": "stderr",
     "output_type": "stream",
     "text": [
      "C:\\Users\\kecco\\AppData\\Local\\Programs\\Python\\Python39\\lib\\site-packages\\sklearn\\svm\\_base.py:1206: ConvergenceWarning: Liblinear failed to converge, increase the number of iterations.\n",
      "  warnings.warn(\n"
     ]
    },
    {
     "name": "stdout",
     "output_type": "stream",
     "text": [
      "              precision    recall  f1-score   support\n",
      "\n",
      "           0       0.89      0.83      0.86       716\n",
      "           1       0.58      0.70      0.64       244\n",
      "\n",
      "    accuracy                           0.79       960\n",
      "   macro avg       0.74      0.77      0.75       960\n",
      "weighted avg       0.81      0.79      0.80       960\n",
      "\n"
     ]
    },
    {
     "name": "stderr",
     "output_type": "stream",
     "text": [
      "C:\\Users\\kecco\\AppData\\Local\\Programs\\Python\\Python39\\lib\\site-packages\\sklearn\\svm\\_base.py:1206: ConvergenceWarning: Liblinear failed to converge, increase the number of iterations.\n",
      "  warnings.warn(\n"
     ]
    },
    {
     "name": "stdout",
     "output_type": "stream",
     "text": [
      "              precision    recall  f1-score   support\n",
      "\n",
      "           0       0.90      0.81      0.85       716\n",
      "           1       0.57      0.72      0.64       244\n",
      "\n",
      "    accuracy                           0.79       960\n",
      "   macro avg       0.73      0.77      0.74       960\n",
      "weighted avg       0.81      0.79      0.80       960\n",
      "\n"
     ]
    },
    {
     "name": "stderr",
     "output_type": "stream",
     "text": [
      "C:\\Users\\kecco\\AppData\\Local\\Programs\\Python\\Python39\\lib\\site-packages\\sklearn\\svm\\_base.py:1206: ConvergenceWarning: Liblinear failed to converge, increase the number of iterations.\n",
      "  warnings.warn(\n"
     ]
    },
    {
     "name": "stdout",
     "output_type": "stream",
     "text": [
      "              precision    recall  f1-score   support\n",
      "\n",
      "           0       0.90      0.84      0.87       716\n",
      "           1       0.61      0.74      0.67       244\n",
      "\n",
      "    accuracy                           0.82       960\n",
      "   macro avg       0.76      0.79      0.77       960\n",
      "weighted avg       0.83      0.82      0.82       960\n",
      "\n",
      "[0.81354167 0.8125     0.79479167 0.790625   0.815625  ]\n"
     ]
    },
    {
     "name": "stderr",
     "output_type": "stream",
     "text": [
      "C:\\Users\\kecco\\AppData\\Local\\Programs\\Python\\Python39\\lib\\site-packages\\sklearn\\svm\\_base.py:1206: ConvergenceWarning: Liblinear failed to converge, increase the number of iterations.\n",
      "  warnings.warn(\n"
     ]
    },
    {
     "name": "stdout",
     "output_type": "stream",
     "text": [
      "              precision    recall  f1-score   support\n",
      "\n",
      "           0       0.91      0.83      0.87       716\n",
      "           1       0.60      0.75      0.67       244\n",
      "\n",
      "    accuracy                           0.81       960\n",
      "   macro avg       0.75      0.79      0.77       960\n",
      "weighted avg       0.83      0.81      0.81       960\n",
      "\n"
     ]
    },
    {
     "name": "stderr",
     "output_type": "stream",
     "text": [
      "C:\\Users\\kecco\\AppData\\Local\\Programs\\Python\\Python39\\lib\\site-packages\\sklearn\\svm\\_base.py:1206: ConvergenceWarning: Liblinear failed to converge, increase the number of iterations.\n",
      "  warnings.warn(\n"
     ]
    },
    {
     "name": "stdout",
     "output_type": "stream",
     "text": [
      "              precision    recall  f1-score   support\n",
      "\n",
      "           0       0.91      0.82      0.87       716\n",
      "           1       0.60      0.77      0.68       244\n",
      "\n",
      "    accuracy                           0.81       960\n",
      "   macro avg       0.76      0.80      0.77       960\n",
      "weighted avg       0.83      0.81      0.82       960\n",
      "\n"
     ]
    },
    {
     "name": "stderr",
     "output_type": "stream",
     "text": [
      "C:\\Users\\kecco\\AppData\\Local\\Programs\\Python\\Python39\\lib\\site-packages\\sklearn\\svm\\_base.py:1206: ConvergenceWarning: Liblinear failed to converge, increase the number of iterations.\n",
      "  warnings.warn(\n"
     ]
    },
    {
     "name": "stdout",
     "output_type": "stream",
     "text": [
      "              precision    recall  f1-score   support\n",
      "\n",
      "           0       0.90      0.83      0.86       716\n",
      "           1       0.59      0.72      0.65       244\n",
      "\n",
      "    accuracy                           0.80       960\n",
      "   macro avg       0.74      0.78      0.76       960\n",
      "weighted avg       0.82      0.80      0.81       960\n",
      "\n"
     ]
    },
    {
     "name": "stderr",
     "output_type": "stream",
     "text": [
      "C:\\Users\\kecco\\AppData\\Local\\Programs\\Python\\Python39\\lib\\site-packages\\sklearn\\svm\\_base.py:1206: ConvergenceWarning: Liblinear failed to converge, increase the number of iterations.\n",
      "  warnings.warn(\n"
     ]
    },
    {
     "name": "stdout",
     "output_type": "stream",
     "text": [
      "              precision    recall  f1-score   support\n",
      "\n",
      "           0       0.90      0.82      0.86       716\n",
      "           1       0.58      0.75      0.65       244\n",
      "\n",
      "    accuracy                           0.80       960\n",
      "   macro avg       0.74      0.78      0.76       960\n",
      "weighted avg       0.82      0.80      0.81       960\n",
      "\n"
     ]
    },
    {
     "name": "stderr",
     "output_type": "stream",
     "text": [
      "C:\\Users\\kecco\\AppData\\Local\\Programs\\Python\\Python39\\lib\\site-packages\\sklearn\\svm\\_base.py:1206: ConvergenceWarning: Liblinear failed to converge, increase the number of iterations.\n",
      "  warnings.warn(\n"
     ]
    },
    {
     "name": "stdout",
     "output_type": "stream",
     "text": [
      "              precision    recall  f1-score   support\n",
      "\n",
      "           0       0.91      0.84      0.88       716\n",
      "           1       0.62      0.75      0.68       244\n",
      "\n",
      "    accuracy                           0.82       960\n",
      "   macro avg       0.77      0.80      0.78       960\n",
      "weighted avg       0.84      0.82      0.83       960\n",
      "\n",
      "[0.80833333 0.81145833 0.80208333 0.8        0.82083333]\n"
     ]
    },
    {
     "name": "stderr",
     "output_type": "stream",
     "text": [
      "C:\\Users\\kecco\\AppData\\Local\\Programs\\Python\\Python39\\lib\\site-packages\\sklearn\\svm\\_base.py:1206: ConvergenceWarning: Liblinear failed to converge, increase the number of iterations.\n",
      "  warnings.warn(\n"
     ]
    },
    {
     "name": "stdout",
     "output_type": "stream",
     "text": [
      "              precision    recall  f1-score   support\n",
      "\n",
      "           0       0.84      0.93      0.88       716\n",
      "           1       0.71      0.49      0.58       244\n",
      "\n",
      "    accuracy                           0.82       960\n",
      "   macro avg       0.78      0.71      0.73       960\n",
      "weighted avg       0.81      0.82      0.81       960\n",
      "\n"
     ]
    },
    {
     "name": "stderr",
     "output_type": "stream",
     "text": [
      "C:\\Users\\kecco\\AppData\\Local\\Programs\\Python\\Python39\\lib\\site-packages\\sklearn\\svm\\_base.py:1206: ConvergenceWarning: Liblinear failed to converge, increase the number of iterations.\n",
      "  warnings.warn(\n"
     ]
    },
    {
     "name": "stdout",
     "output_type": "stream",
     "text": [
      "              precision    recall  f1-score   support\n",
      "\n",
      "           0       0.93      0.65      0.77       716\n",
      "           1       0.46      0.85      0.59       244\n",
      "\n",
      "    accuracy                           0.70       960\n",
      "   macro avg       0.69      0.75      0.68       960\n",
      "weighted avg       0.81      0.70      0.72       960\n",
      "\n"
     ]
    },
    {
     "name": "stderr",
     "output_type": "stream",
     "text": [
      "C:\\Users\\kecco\\AppData\\Local\\Programs\\Python\\Python39\\lib\\site-packages\\sklearn\\svm\\_base.py:1206: ConvergenceWarning: Liblinear failed to converge, increase the number of iterations.\n",
      "  warnings.warn(\n"
     ]
    },
    {
     "name": "stdout",
     "output_type": "stream",
     "text": [
      "              precision    recall  f1-score   support\n",
      "\n",
      "           0       0.89      0.82      0.85       716\n",
      "           1       0.57      0.69      0.63       244\n",
      "\n",
      "    accuracy                           0.79       960\n",
      "   macro avg       0.73      0.76      0.74       960\n",
      "weighted avg       0.81      0.79      0.80       960\n",
      "\n"
     ]
    },
    {
     "name": "stderr",
     "output_type": "stream",
     "text": [
      "C:\\Users\\kecco\\AppData\\Local\\Programs\\Python\\Python39\\lib\\site-packages\\sklearn\\svm\\_base.py:1206: ConvergenceWarning: Liblinear failed to converge, increase the number of iterations.\n",
      "  warnings.warn(\n"
     ]
    },
    {
     "name": "stdout",
     "output_type": "stream",
     "text": [
      "              precision    recall  f1-score   support\n",
      "\n",
      "           0       0.88      0.83      0.85       716\n",
      "           1       0.57      0.68      0.62       244\n",
      "\n",
      "    accuracy                           0.79       960\n",
      "   macro avg       0.73      0.75      0.74       960\n",
      "weighted avg       0.80      0.79      0.79       960\n",
      "\n"
     ]
    },
    {
     "name": "stderr",
     "output_type": "stream",
     "text": [
      "C:\\Users\\kecco\\AppData\\Local\\Programs\\Python\\Python39\\lib\\site-packages\\sklearn\\svm\\_base.py:1206: ConvergenceWarning: Liblinear failed to converge, increase the number of iterations.\n",
      "  warnings.warn(\n"
     ]
    },
    {
     "name": "stdout",
     "output_type": "stream",
     "text": [
      "              precision    recall  f1-score   support\n",
      "\n",
      "           0       0.90      0.81      0.85       716\n",
      "           1       0.57      0.74      0.64       244\n",
      "\n",
      "    accuracy                           0.79       960\n",
      "   macro avg       0.73      0.77      0.75       960\n",
      "weighted avg       0.82      0.79      0.80       960\n",
      "\n",
      "[0.81875    0.70416667 0.790625   0.78854167 0.78958333]\n"
     ]
    }
   ],
   "source": [
    "for i in [0.1, 1.0, 10.0]:\n",
    "\n",
    "    steps = [\n",
    "        (\"scaler\", WordVectorTransformer()),\n",
    "        (\"sampler\", SMOTE()),\n",
    "        (\"classification\", LinearSVC(C=i,max_iter=10000))\n",
    "    ]\n",
    "\n",
    "    pipeline = Pipeline(steps)\n",
    "\n",
    "    svm_results = cross_val_score(\n",
    "    pipeline,\n",
    "    x,\n",
    "    y,\n",
    "    cv = StratifiedKFold(shuffle=True, random_state=15, n_splits=5),\n",
    "    scoring=make_scorer(ut.classification_report_with_accuracy_score)\n",
    "    )\n",
    "\n",
    "    print(svm_results)"
   ],
   "metadata": {
    "collapsed": false,
    "ExecuteTime": {
     "start_time": "2023-04-12T17:13:40.390537Z",
     "end_time": "2023-04-12T17:48:56.367574Z"
    }
   }
  },
  {
   "cell_type": "code",
   "execution_count": null,
   "outputs": [],
   "source": [],
   "metadata": {
    "collapsed": false
   }
  }
 ],
 "metadata": {
  "kernelspec": {
   "display_name": "Python 3",
   "language": "python",
   "name": "python3"
  },
  "language_info": {
   "codemirror_mode": {
    "name": "ipython",
    "version": 2
   },
   "file_extension": ".py",
   "mimetype": "text/x-python",
   "name": "python",
   "nbconvert_exporter": "python",
   "pygments_lexer": "ipython2",
   "version": "2.7.6"
  }
 },
 "nbformat": 4,
 "nbformat_minor": 0
}
